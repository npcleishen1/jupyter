{
 "cells": [
  {
   "cell_type": "code",
   "execution_count": null,
   "id": "8e19af86",
   "metadata": {
    "scrolled": true
   },
   "outputs": [],
   "source": [
    "from selenium import webdriver\n",
    "from selenium.webdriver.chrome.service import Service\n",
    "from selenium.webdriver.common.keys import Keys\n",
    "from selenium.webdriver.support.ui import WebDriverWait\n",
    "from selenium.webdriver.support import expected_conditions as EC\n",
    "from selenium.webdriver.common.by import By\n",
    "import time\n",
    "\n",
    "chromedriver_path = r'C:\\Users\\npcleishen2\\.wdm\\drivers\\chromedriver\\win64\\138.0.7204.168\\chromedriver-win32\\chromedriver.exe'  \n",
    "service = Service(chromedriver_path)\n",
    "driver = webdriver.Chrome(service=service)\n",
    "driver.maximize_window()\n",
    "\n",
    "\n",
    "print(\"开始运行\")\n",
    "\n",
    "driver.implicitly_wait(10)\n",
    "\n",
    "try:\n",
    "    driver.get(\"https://cn.bing.com/\")\n",
    "\n",
    "    search_box=driver.find_element(by='xpath',value='//*[@id=\"sb_form_q\"]')\n",
    "    search_box.send_keys('839680')\n",
    "    search_box.send_keys(Keys.RETURN)\n",
    "    driver.find_elements(by='partial link text',value='东方财富网')[0].click()\n",
    "    img_element = wait.until(EC.presence_of_element_located((By.CSS_SELECTOR, 'img[style*=\"width: 485px; height: 415px\"]')))\n",
    "    img_element.click()\n",
    "\n",
    "\n",
    "except Exception as e:\n",
    "    print(f\"操作过程中出现异常: {e}\")\n",
    "\n",
    "finally:\n",
    "    time.sleep(5)\n",
    "    #driver.quit()\n",
    "    print(\"关闭浏览器\")"
   ]
  },
  {
   "cell_type": "code",
   "execution_count": null,
   "id": "6edc85e2",
   "metadata": {},
   "outputs": [],
   "source": []
  }
 ],
 "metadata": {
  "kernelspec": {
   "display_name": "Python 3 (ipykernel)",
   "language": "python",
   "name": "python3"
  },
  "language_info": {
   "codemirror_mode": {
    "name": "ipython",
    "version": 3
   },
   "file_extension": ".py",
   "mimetype": "text/x-python",
   "name": "python",
   "nbconvert_exporter": "python",
   "pygments_lexer": "ipython3",
   "version": "3.12.3"
  },
  "toc": {
   "base_numbering": 1,
   "nav_menu": {},
   "number_sections": true,
   "sideBar": true,
   "skip_h1_title": false,
   "title_cell": "Table of Contents",
   "title_sidebar": "Contents",
   "toc_cell": false,
   "toc_position": {},
   "toc_section_display": true,
   "toc_window_display": false
  }
 },
 "nbformat": 4,
 "nbformat_minor": 5
}
