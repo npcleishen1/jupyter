{
 "cells": [
  {
   "cell_type": "code",
   "execution_count": 1,
   "id": "4e0e8b63-03fd-4f01-bac9-0400da4cf0c7",
   "metadata": {},
   "outputs": [],
   "source": [
    "import numpy as np\n",
    "import pandas as pd\n",
    "from IPython.core.interactiveshell import InteractiveShell\n",
    "import openpyxl\n",
    "\n",
    "InteractiveShell.ast_node_interactivity = \"all\"\n",
    "pd.options.display.max_columns = 1000\n",
    "pd.options.display.max_rows = 5000\n",
    "pd.options.display.float_format = lambda x: '%.5f' % x\n",
    "import matplotlib.pyplot as plt\n",
    "%matplotlib inline\n",
    "plt.rcParams['font.sans-serif'] = 'SimHei'\n",
    "plt.rcParams['axes.unicode_minus'] = False\n",
    "%config InlineBackend.figure_format='svg'"
   ]
  },
  {
   "cell_type": "code",
   "execution_count": 2,
   "id": "9c3d3bda-b36b-4ed3-b6e8-e93de8d2aeb9",
   "metadata": {
    "scrolled": true
   },
   "outputs": [
    {
     "data": {
      "application/vnd.jupyter.widget-view+json": {
       "model_id": "",
       "version_major": 2,
       "version_minor": 0
      },
      "text/plain": [
       "  0%|          | 0/24 [00:00<?, ?it/s]"
      ]
     },
     "metadata": {},
     "output_type": "display_data"
    },
    {
     "data": {
      "text/html": [
       "<div>\n",
       "<style scoped>\n",
       "    .dataframe tbody tr th:only-of-type {\n",
       "        vertical-align: middle;\n",
       "    }\n",
       "\n",
       "    .dataframe tbody tr th {\n",
       "        vertical-align: top;\n",
       "    }\n",
       "\n",
       "    .dataframe thead th {\n",
       "        text-align: right;\n",
       "    }\n",
       "</style>\n",
       "<table border=\"1\" class=\"dataframe\">\n",
       "  <thead>\n",
       "    <tr style=\"text-align: right;\">\n",
       "      <th></th>\n",
       "      <th>名称</th>\n",
       "      <th>最新价</th>\n",
       "      <th>涨跌幅</th>\n",
       "      <th>换手率</th>\n",
       "      <th>市盈率-动态</th>\n",
       "      <th>总市值</th>\n",
       "      <th>流通市值</th>\n",
       "      <th>60日涨跌幅</th>\n",
       "      <th>年初至今涨跌幅</th>\n",
       "    </tr>\n",
       "    <tr>\n",
       "      <th>代码</th>\n",
       "      <th></th>\n",
       "      <th></th>\n",
       "      <th></th>\n",
       "      <th></th>\n",
       "      <th></th>\n",
       "      <th></th>\n",
       "      <th></th>\n",
       "      <th></th>\n",
       "      <th></th>\n",
       "    </tr>\n",
       "  </thead>\n",
       "  <tbody>\n",
       "    <tr>\n",
       "      <th>688280</th>\n",
       "      <td>精进电动-UW</td>\n",
       "      <td>8.82000</td>\n",
       "      <td>-12.33000</td>\n",
       "      <td>12.12000</td>\n",
       "      <td>26.82000</td>\n",
       "      <td>5205755103.00000</td>\n",
       "      <td>4591199359.00000</td>\n",
       "      <td>77.82000</td>\n",
       "      <td>100.91000</td>\n",
       "    </tr>\n",
       "  </tbody>\n",
       "</table>\n",
       "</div>"
      ],
      "text/plain": [
       "             名称     最新价       涨跌幅      换手率   市盈率-动态              总市值  \\\n",
       "代码                                                                     \n",
       "688280  精进电动-UW 8.82000 -12.33000 12.12000 26.82000 5205755103.00000   \n",
       "\n",
       "                   流通市值   60日涨跌幅   年初至今涨跌幅  \n",
       "代码                                          \n",
       "688280 4591199359.00000 77.82000 100.91000  "
      ]
     },
     "execution_count": 2,
     "metadata": {},
     "output_type": "execute_result"
    }
   ],
   "source": [
    "import akshare as ak\n",
    "\n",
    "stock_sh_a_spot_em_df = ak.stock_sh_a_spot_em().dropna()\n",
    "\n",
    "stock_sh_a_spot_em_df = stock_sh_a_spot_em_df.drop(columns=[\n",
    "    '涨跌额', '成交量', '振幅', '量比', '成交额', '最高', '最低', '今开', '昨收', '涨速', '5分钟涨跌',\n",
    "    '序号', '市净率'\n",
    "])\n",
    "stock_sh_a_spot_em_df = stock_sh_a_spot_em_df.sort_values(by='涨跌幅',\n",
    "                                                          ascending=True)\n",
    "stock_sh_a_spot_em_df.set_index('代码', inplace=True)\n",
    "df1 = stock_sh_a_spot_em_df[stock_sh_a_spot_em_df['涨跌幅'] < -9.6]\n",
    "df1"
   ]
  },
  {
   "cell_type": "code",
   "execution_count": 3,
   "id": "f3a2aeb5",
   "metadata": {},
   "outputs": [
    {
     "data": {
      "application/vnd.jupyter.widget-view+json": {
       "model_id": "",
       "version_major": 2,
       "version_minor": 0
      },
      "text/plain": [
       "  0%|          | 0/30 [00:00<?, ?it/s]"
      ]
     },
     "metadata": {},
     "output_type": "display_data"
    },
    {
     "data": {
      "text/html": [
       "<div>\n",
       "<style scoped>\n",
       "    .dataframe tbody tr th:only-of-type {\n",
       "        vertical-align: middle;\n",
       "    }\n",
       "\n",
       "    .dataframe tbody tr th {\n",
       "        vertical-align: top;\n",
       "    }\n",
       "\n",
       "    .dataframe thead th {\n",
       "        text-align: right;\n",
       "    }\n",
       "</style>\n",
       "<table border=\"1\" class=\"dataframe\">\n",
       "  <thead>\n",
       "    <tr style=\"text-align: right;\">\n",
       "      <th></th>\n",
       "      <th>名称</th>\n",
       "      <th>最新价</th>\n",
       "      <th>涨跌幅</th>\n",
       "      <th>换手率</th>\n",
       "      <th>市盈率-动态</th>\n",
       "      <th>总市值</th>\n",
       "      <th>流通市值</th>\n",
       "      <th>60日涨跌幅</th>\n",
       "      <th>年初至今涨跌幅</th>\n",
       "    </tr>\n",
       "    <tr>\n",
       "      <th>代码</th>\n",
       "      <th></th>\n",
       "      <th></th>\n",
       "      <th></th>\n",
       "      <th></th>\n",
       "      <th></th>\n",
       "      <th></th>\n",
       "      <th></th>\n",
       "      <th></th>\n",
       "      <th></th>\n",
       "    </tr>\n",
       "  </thead>\n",
       "  <tbody>\n",
       "    <tr>\n",
       "      <th>300391</th>\n",
       "      <td>*ST长药</td>\n",
       "      <td>4.94000</td>\n",
       "      <td>-11.47000</td>\n",
       "      <td>8.18000</td>\n",
       "      <td>-7.11000</td>\n",
       "      <td>1730660393.00000</td>\n",
       "      <td>1730660393.00000</td>\n",
       "      <td>11.51000</td>\n",
       "      <td>-1.98000</td>\n",
       "    </tr>\n",
       "    <tr>\n",
       "      <th>301076</th>\n",
       "      <td>新瀚新材</td>\n",
       "      <td>37.90000</td>\n",
       "      <td>-10.87000</td>\n",
       "      <td>17.51000</td>\n",
       "      <td>78.74000</td>\n",
       "      <td>5098459600.00000</td>\n",
       "      <td>3201391208.00000</td>\n",
       "      <td>7.52000</td>\n",
       "      <td>22.57000</td>\n",
       "    </tr>\n",
       "  </tbody>\n",
       "</table>\n",
       "</div>"
      ],
      "text/plain": [
       "           名称      最新价       涨跌幅      换手率   市盈率-动态              总市值  \\\n",
       "代码                                                                    \n",
       "300391  *ST长药  4.94000 -11.47000  8.18000 -7.11000 1730660393.00000   \n",
       "301076   新瀚新材 37.90000 -10.87000 17.51000 78.74000 5098459600.00000   \n",
       "\n",
       "                   流通市值   60日涨跌幅  年初至今涨跌幅  \n",
       "代码                                         \n",
       "300391 1730660393.00000 11.51000 -1.98000  \n",
       "301076 3201391208.00000  7.52000 22.57000  "
      ]
     },
     "execution_count": 3,
     "metadata": {},
     "output_type": "execute_result"
    }
   ],
   "source": [
    "import akshare as ak\n",
    "\n",
    "stock_sz_a_spot_em_df = ak.stock_sz_a_spot_em().dropna()\n",
    "\n",
    "stock_sz_a_spot_em_df = stock_sz_a_spot_em_df.drop(columns=[\n",
    "    '涨跌额', '成交量', '振幅', '量比', '成交额', '最高', '最低', '今开', '昨收', '涨速', '5分钟涨跌',\n",
    "    '序号', '市净率'\n",
    "])\n",
    "stock_sz_a_spot_em_df = stock_sz_a_spot_em_df.sort_values(by='涨跌幅',\n",
    "                                                          ascending=True)\n",
    "stock_sz_a_spot_em_df.set_index('代码', inplace=True)\n",
    "df2 = stock_sz_a_spot_em_df[stock_sz_a_spot_em_df['涨跌幅'] < -9.6]\n",
    "df2"
   ]
  },
  {
   "cell_type": "markdown",
   "id": "b01bf607",
   "metadata": {},
   "source": [
    "#"
   ]
  }
 ],
 "metadata": {
  "kernelspec": {
   "display_name": "Python 3 (ipykernel)",
   "language": "python",
   "name": "python3"
  },
  "language_info": {
   "codemirror_mode": {
    "name": "ipython",
    "version": 3
   },
   "file_extension": ".py",
   "mimetype": "text/x-python",
   "name": "python",
   "nbconvert_exporter": "python",
   "pygments_lexer": "ipython3",
   "version": "3.12.3"
  },
  "toc": {
   "base_numbering": 1,
   "nav_menu": {},
   "number_sections": true,
   "sideBar": true,
   "skip_h1_title": false,
   "title_cell": "Table of Contents",
   "title_sidebar": "Contents",
   "toc_cell": false,
   "toc_position": {},
   "toc_section_display": true,
   "toc_window_display": false
  }
 },
 "nbformat": 4,
 "nbformat_minor": 5
}
