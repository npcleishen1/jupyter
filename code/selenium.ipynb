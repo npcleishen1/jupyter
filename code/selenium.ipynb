{
 "cells": [
  {
   "cell_type": "code",
   "execution_count": null,
   "id": "8e19af86",
   "metadata": {
    "scrolled": true
   },
   "outputs": [
    {
     "name": "stdout",
     "output_type": "stream",
     "text": [
      "开始运行\n",
      "操作过程中出现异常: 数量正确\n",
      "关闭浏览器\n"
     ]
    }
   ],
   "source": [
    "from selenium import webdriver\n",
    "from selenium.webdriver.chrome.service import Service\n",
    "from selenium.webdriver.common.keys import Keys\n",
    "from selenium.webdriver.support.ui import WebDriverWait\n",
    "from selenium.webdriver.support import expected_conditions as EC\n",
    "from selenium.webdriver.common.by import By\n",
    "import time\n",
    "import re\n",
    "\n",
    "chromedriver_path = r'C:\\Users\\npcleishen2\\.wdm\\drivers\\chromedriver\\win64\\138.0.7204.168\\chromedriver-win32\\chromedriver.exe'  \n",
    "service = Service(chromedriver_path)\n",
    "driver = webdriver.Chrome(service=service)\n",
    "driver.maximize_window()\n",
    "\n",
    "index=\"https://415ff126.r2.cpolar.top\"\n",
    "print(\"开始运行\")\n",
    "driver.implicitly_wait(10)\n",
    "wait = WebDriverWait(driver, 10)\n",
    "try:\n",
    "    driver.get(index)\n",
    "    luma_page=driver.find_element(By.XPATH,'//*[@id=\"luma-test-link\"]')\n",
    "    luma_page.click()\n",
    "    time.sleep(2)\n",
    "    handle=driver.window_handles[-1]\n",
    "    driver.switch_to.window(handle)\n",
    "    page_height = driver.execute_script(\"return document.body.scrollHeight\")\n",
    "    driver.execute_script(f\"window.scrollTo(0, {page_height*5/12});\")\n",
    "    time.sleep(5)\n",
    "    wait.until( EC.element_to_be_clickable((By.XPATH, '//*[@id=\"maincontent\"]/div[3]/div/div[2]/div[4]/div/div/ol/li[1]/div/a'))).click()\n",
    "    time.sleep(10)\n",
    "    '''\n",
    "    try:\n",
    "    # 等待元素出现并且可点击，假设通过ID定位元素\n",
    "        \n",
    "        wait.until( EC.element_to_be_clickable((By.XPATH, '//*[@id=\"dismiss-button\"]'))).click()\n",
    "        print('ad出现并点击')\n",
    "    except Exception as e:\n",
    "        print(f'ad在规定时间内未出现')\n",
    "    '''\n",
    "    page_height = driver.execute_script(\"return document.body.scrollHeight\")\n",
    "    driver.execute_script(f\"window.scrollTo(0, {page_height/3});\")\n",
    "    size=driver.find_element(By.XPATH,'//*[@id=\"option-label-size-143-item-170\"]')\n",
    "    color=driver.find_element(By.XPATH,'//*[@id=\"option-label-color-93-item-50\"]')\n",
    "    size.click()\n",
    "    color.click()\n",
    "    num=driver.find_element(By.XPATH,'//*[@id=\"qty\"]')\n",
    "    num.clear()\n",
    "    num.send_keys(3)\n",
    "    driver.find_element(By.XPATH,'//*[@id=\"product-addtocart-button\"]').click()\n",
    "    time.sleep(3)\n",
    "    driver.find_element(By.XPATH,'/html/body/div[2]/header/div[2]/div[1]/a').click()\n",
    "    time.sleep(3)\n",
    "    \n",
    "    text=driver.find_element(By.XPATH,'//*[@id=\"minicart-content-wrapper\"]/div[2]/div[2]/div/span/span').text\n",
    "    match = int(float(re.search(r'\\d+(\\.\\d+)?', text).group()))\n",
    "    assert match==22*num,'数量正确'\n",
    "    assert driver.find_element(By.XPATH,'//*[@id=\"maincontent\"]/div[1]/div[2]/div/div/div')\n",
    "\n",
    "except Exception as e:\n",
    "    print(f\"操作过程中出现异常: {e}\")\n",
    "\n",
    "finally:\n",
    "    time.sleep(5)\n",
    "    #driver.quit()\n",
    "    print(\"关闭浏览器\")"
   ]
  },
  {
   "cell_type": "code",
   "execution_count": null,
   "id": "6edc85e2",
   "metadata": {},
   "outputs": [],
   "source": []
  }
 ],
 "metadata": {
  "kernelspec": {
   "display_name": "base",
   "language": "python",
   "name": "python3"
  },
  "language_info": {
   "codemirror_mode": {
    "name": "ipython",
    "version": 3
   },
   "file_extension": ".py",
   "mimetype": "text/x-python",
   "name": "python",
   "nbconvert_exporter": "python",
   "pygments_lexer": "ipython3",
   "version": "3.12.3"
  },
  "toc": {
   "base_numbering": 1,
   "nav_menu": {},
   "number_sections": true,
   "sideBar": true,
   "skip_h1_title": false,
   "title_cell": "Table of Contents",
   "title_sidebar": "Contents",
   "toc_cell": false,
   "toc_position": {},
   "toc_section_display": true,
   "toc_window_display": false
  }
 },
 "nbformat": 4,
 "nbformat_minor": 5
}
