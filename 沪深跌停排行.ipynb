{
 "cells": [
  {
   "cell_type": "code",
   "execution_count": 1,
   "id": "4e0e8b63-03fd-4f01-bac9-0400da4cf0c7",
   "metadata": {},
   "outputs": [],
   "source": [
    "import numpy as np\n",
    "import pandas as pd\n",
    "from IPython.core.interactiveshell import InteractiveShell\n",
    "import openpyxl\n",
    "\n",
    "InteractiveShell.ast_node_interactivity = \"all\"\n",
    "pd.options.display.max_columns = 1000\n",
    "pd.options.display.max_rows = 5000\n",
    "pd.options.display.float_format = lambda x: '%.5f' % x\n",
    "import matplotlib.pyplot as plt\n",
    "%matplotlib inline\n",
    "plt.rcParams['font.sans-serif'] = 'SimHei'\n",
    "plt.rcParams['axes.unicode_minus'] = False\n",
    "%config InlineBackend.figure_format='svg'"
   ]
  },
  {
   "cell_type": "code",
   "execution_count": 2,
   "id": "9c3d3bda-b36b-4ed3-b6e8-e93de8d2aeb9",
   "metadata": {
    "scrolled": true
   },
   "outputs": [
    {
     "data": {
      "application/vnd.jupyter.widget-view+json": {
       "model_id": "",
       "version_major": 2,
       "version_minor": 0
      },
      "text/plain": [
       "  0%|          | 0/24 [00:00<?, ?it/s]"
      ]
     },
     "metadata": {},
     "output_type": "display_data"
    },
    {
     "data": {
      "text/html": [
       "<div>\n",
       "<style scoped>\n",
       "    .dataframe tbody tr th:only-of-type {\n",
       "        vertical-align: middle;\n",
       "    }\n",
       "\n",
       "    .dataframe tbody tr th {\n",
       "        vertical-align: top;\n",
       "    }\n",
       "\n",
       "    .dataframe thead th {\n",
       "        text-align: right;\n",
       "    }\n",
       "</style>\n",
       "<table border=\"1\" class=\"dataframe\">\n",
       "  <thead>\n",
       "    <tr style=\"text-align: right;\">\n",
       "      <th></th>\n",
       "      <th>名称</th>\n",
       "      <th>最新价</th>\n",
       "      <th>涨跌幅</th>\n",
       "      <th>换手率</th>\n",
       "      <th>市盈率-动态</th>\n",
       "      <th>总市值</th>\n",
       "      <th>流通市值</th>\n",
       "      <th>60日涨跌幅</th>\n",
       "      <th>年初至今涨跌幅</th>\n",
       "    </tr>\n",
       "    <tr>\n",
       "      <th>代码</th>\n",
       "      <th></th>\n",
       "      <th></th>\n",
       "      <th></th>\n",
       "      <th></th>\n",
       "      <th></th>\n",
       "      <th></th>\n",
       "      <th></th>\n",
       "      <th></th>\n",
       "      <th></th>\n",
       "    </tr>\n",
       "  </thead>\n",
       "  <tbody>\n",
       "    <tr>\n",
       "      <th>600800</th>\n",
       "      <td>渤海化学</td>\n",
       "      <td>3.60000</td>\n",
       "      <td>-10.00000</td>\n",
       "      <td>14.64000</td>\n",
       "      <td>-5.91000</td>\n",
       "      <td>3996162778.00000</td>\n",
       "      <td>3995028778.00000</td>\n",
       "      <td>16.13000</td>\n",
       "      <td>18.42000</td>\n",
       "    </tr>\n",
       "  </tbody>\n",
       "</table>\n",
       "</div>"
      ],
      "text/plain": [
       "          名称     最新价       涨跌幅      换手率   市盈率-动态              总市值  \\\n",
       "代码                                                                  \n",
       "600800  渤海化学 3.60000 -10.00000 14.64000 -5.91000 3996162778.00000   \n",
       "\n",
       "                   流通市值   60日涨跌幅  年初至今涨跌幅  \n",
       "代码                                         \n",
       "600800 3995028778.00000 16.13000 18.42000  "
      ]
     },
     "execution_count": 2,
     "metadata": {},
     "output_type": "execute_result"
    }
   ],
   "source": [
    "import akshare as ak\n",
    "\n",
    "stock_sh_a_spot_em_df = ak.stock_sh_a_spot_em().dropna()\n",
    "\n",
    "stock_sh_a_spot_em_df = stock_sh_a_spot_em_df.drop(columns=[\n",
    "    '涨跌额', '成交量', '振幅', '量比', '成交额', '最高', '最低', '今开', '昨收', '涨速', '5分钟涨跌',\n",
    "    '序号', '市净率'\n",
    "])\n",
    "stock_sh_a_spot_em_df = stock_sh_a_spot_em_df.sort_values(by='涨跌幅',\n",
    "                                                          ascending=True)\n",
    "stock_sh_a_spot_em_df.set_index('代码', inplace=True)\n",
    "df1 = stock_sh_a_spot_em_df[stock_sh_a_spot_em_df['涨跌幅'] < -9.6]\n",
    "df1"
   ]
  },
  {
   "cell_type": "code",
   "execution_count": 3,
   "id": "f3a2aeb5",
   "metadata": {},
   "outputs": [
    {
     "data": {
      "application/vnd.jupyter.widget-view+json": {
       "model_id": "",
       "version_major": 2,
       "version_minor": 0
      },
      "text/plain": [
       "  0%|          | 0/30 [00:00<?, ?it/s]"
      ]
     },
     "metadata": {},
     "output_type": "display_data"
    },
    {
     "data": {
      "text/html": [
       "<div>\n",
       "<style scoped>\n",
       "    .dataframe tbody tr th:only-of-type {\n",
       "        vertical-align: middle;\n",
       "    }\n",
       "\n",
       "    .dataframe tbody tr th {\n",
       "        vertical-align: top;\n",
       "    }\n",
       "\n",
       "    .dataframe thead th {\n",
       "        text-align: right;\n",
       "    }\n",
       "</style>\n",
       "<table border=\"1\" class=\"dataframe\">\n",
       "  <thead>\n",
       "    <tr style=\"text-align: right;\">\n",
       "      <th></th>\n",
       "      <th>名称</th>\n",
       "      <th>最新价</th>\n",
       "      <th>涨跌幅</th>\n",
       "      <th>换手率</th>\n",
       "      <th>市盈率-动态</th>\n",
       "      <th>总市值</th>\n",
       "      <th>流通市值</th>\n",
       "      <th>60日涨跌幅</th>\n",
       "      <th>年初至今涨跌幅</th>\n",
       "    </tr>\n",
       "    <tr>\n",
       "      <th>代码</th>\n",
       "      <th></th>\n",
       "      <th></th>\n",
       "      <th></th>\n",
       "      <th></th>\n",
       "      <th></th>\n",
       "      <th></th>\n",
       "      <th></th>\n",
       "      <th></th>\n",
       "      <th></th>\n",
       "    </tr>\n",
       "  </thead>\n",
       "  <tbody>\n",
       "    <tr>\n",
       "      <th>002331</th>\n",
       "      <td>皖通科技</td>\n",
       "      <td>8.27000</td>\n",
       "      <td>-10.01000</td>\n",
       "      <td>23.69000</td>\n",
       "      <td>-56.44000</td>\n",
       "      <td>3518320564.00000</td>\n",
       "      <td>3273640590.00000</td>\n",
       "      <td>-2.71000</td>\n",
       "      <td>12.06000</td>\n",
       "    </tr>\n",
       "    <tr>\n",
       "      <th>002825</th>\n",
       "      <td>纳尔股份</td>\n",
       "      <td>11.24000</td>\n",
       "      <td>-10.01000</td>\n",
       "      <td>15.31000</td>\n",
       "      <td>13.97000</td>\n",
       "      <td>3844402318.00000</td>\n",
       "      <td>2925456696.00000</td>\n",
       "      <td>36.24000</td>\n",
       "      <td>43.73000</td>\n",
       "    </tr>\n",
       "    <tr>\n",
       "      <th>002915</th>\n",
       "      <td>中欣氟材</td>\n",
       "      <td>20.34000</td>\n",
       "      <td>-10.00000</td>\n",
       "      <td>27.01000</td>\n",
       "      <td>531.22000</td>\n",
       "      <td>6620026748.00000</td>\n",
       "      <td>5864151668.00000</td>\n",
       "      <td>45.49000</td>\n",
       "      <td>59.15000</td>\n",
       "    </tr>\n",
       "    <tr>\n",
       "      <th>301518</th>\n",
       "      <td>长华化学</td>\n",
       "      <td>25.57000</td>\n",
       "      <td>-9.68000</td>\n",
       "      <td>38.38000</td>\n",
       "      <td>47.93000</td>\n",
       "      <td>3584356676.00000</td>\n",
       "      <td>1366850180.00000</td>\n",
       "      <td>53.67000</td>\n",
       "      <td>59.12000</td>\n",
       "    </tr>\n",
       "  </tbody>\n",
       "</table>\n",
       "</div>"
      ],
      "text/plain": [
       "          名称      最新价       涨跌幅      换手率    市盈率-动态              总市值  \\\n",
       "代码                                                                    \n",
       "002331  皖通科技  8.27000 -10.01000 23.69000 -56.44000 3518320564.00000   \n",
       "002825  纳尔股份 11.24000 -10.01000 15.31000  13.97000 3844402318.00000   \n",
       "002915  中欣氟材 20.34000 -10.00000 27.01000 531.22000 6620026748.00000   \n",
       "301518  长华化学 25.57000  -9.68000 38.38000  47.93000 3584356676.00000   \n",
       "\n",
       "                   流通市值   60日涨跌幅  年初至今涨跌幅  \n",
       "代码                                         \n",
       "002331 3273640590.00000 -2.71000 12.06000  \n",
       "002825 2925456696.00000 36.24000 43.73000  \n",
       "002915 5864151668.00000 45.49000 59.15000  \n",
       "301518 1366850180.00000 53.67000 59.12000  "
      ]
     },
     "execution_count": 3,
     "metadata": {},
     "output_type": "execute_result"
    }
   ],
   "source": [
    "import akshare as ak\n",
    "\n",
    "stock_sz_a_spot_em_df = ak.stock_sz_a_spot_em().dropna()\n",
    "\n",
    "stock_sz_a_spot_em_df = stock_sz_a_spot_em_df.drop(columns=[\n",
    "    '涨跌额', '成交量', '振幅', '量比', '成交额', '最高', '最低', '今开', '昨收', '涨速', '5分钟涨跌',\n",
    "    '序号', '市净率'\n",
    "])\n",
    "stock_sz_a_spot_em_df = stock_sz_a_spot_em_df.sort_values(by='涨跌幅',\n",
    "                                                          ascending=True)\n",
    "stock_sz_a_spot_em_df.set_index('代码', inplace=True)\n",
    "df2 = stock_sz_a_spot_em_df[stock_sz_a_spot_em_df['涨跌幅'] < -9.6]\n",
    "df2"
   ]
  },
  {
   "cell_type": "markdown",
   "id": "b01bf607",
   "metadata": {},
   "source": [
    "#"
   ]
  }
 ],
 "metadata": {
  "kernelspec": {
   "display_name": "Python 3 (ipykernel)",
   "language": "python",
   "name": "python3"
  },
  "language_info": {
   "codemirror_mode": {
    "name": "ipython",
    "version": 3
   },
   "file_extension": ".py",
   "mimetype": "text/x-python",
   "name": "python",
   "nbconvert_exporter": "python",
   "pygments_lexer": "ipython3",
   "version": "3.12.3"
  },
  "toc": {
   "base_numbering": 1,
   "nav_menu": {},
   "number_sections": true,
   "sideBar": true,
   "skip_h1_title": false,
   "title_cell": "Table of Contents",
   "title_sidebar": "Contents",
   "toc_cell": false,
   "toc_position": {},
   "toc_section_display": true,
   "toc_window_display": false
  }
 },
 "nbformat": 4,
 "nbformat_minor": 5
}
